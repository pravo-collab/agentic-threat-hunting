{
 "cells": [
  {
   "cell_type": "markdown",
   "metadata": {},
   "source": [
    "# Threat Hunting and Incident Response Demo\n",
    "\n",
    "This notebook demonstrates the Agentic MultiStage Threat Hunting and Incident Response system."
   ]
  },
  {
   "cell_type": "code",
   "execution_count": null,
   "metadata": {},
   "outputs": [],
   "source": [
    "import sys\n",
    "sys.path.append('..')\n",
    "\n",
    "import uuid\n",
    "from datetime import datetime\n",
    "from src.models.schemas import SecurityEvent, AgentState\n",
    "from src.graph.workflow import ThreatHuntingWorkflow\n",
    "from src.config.settings import settings"
   ]
  },
  {
   "cell_type": "markdown",
   "metadata": {},
   "source": [
    "## 1. Create a Sample Security Event"
   ]
  },
  {
   "cell_type": "code",
   "execution_count": null,
   "metadata": {},
   "outputs": [],
   "source": [
    "# Create a sample malware detection event\n",
    "security_event = SecurityEvent(\n",
    "    event_id=str(uuid.uuid4()),\n",
    "    timestamp=datetime.now(),\n",
    "    source=\"endpoint_detection\",\n",
    "    event_type=\"malware_execution\",\n",
    "    raw_data={\n",
    "        \"file_hash\": \"a1b2c3d4e5f6g7h8i9j0\",\n",
    "        \"file_path\": \"C:\\\\Users\\\\admin\\\\AppData\\\\Roaming\\\\suspicious.exe\",\n",
    "        \"parent_process\": \"explorer.exe\",\n",
    "        \"command_line\": \"suspicious.exe --encrypt --target C:\\\\Users\",\n",
    "    },\n",
    "    source_ip=\"192.168.1.100\",\n",
    "    destination_ip=\"185.220.101.50\",\n",
    "    user=\"admin\",\n",
    "    process=\"suspicious.exe\",\n",
    ")\n",
    "\n",
    "print(f\"Event ID: {security_event.event_id}\")\n",
    "print(f\"Event Type: {security_event.event_type}\")\n",
    "print(f\"Source: {security_event.source}\")"
   ]
  },
  {
   "cell_type": "markdown",
   "metadata": {},
   "source": [
    "## 2. Initialize the Workflow"
   ]
  },
  {
   "cell_type": "code",
   "execution_count": null,
   "metadata": {},
   "outputs": [],
   "source": [
    "# Initialize the threat hunting workflow\n",
    "workflow = ThreatHuntingWorkflow()\n",
    "print(\"Workflow initialized successfully!\")"
   ]
  },
  {
   "cell_type": "markdown",
   "metadata": {},
   "source": [
    "## 3. Run the Workflow"
   ]
  },
  {
   "cell_type": "code",
   "execution_count": null,
   "metadata": {},
   "outputs": [],
   "source": [
    "# Create initial state\n",
    "initial_state = AgentState(\n",
    "    security_event=security_event,\n",
    "    current_stage=\"detection\"\n",
    ")\n",
    "\n",
    "# Run the workflow\n",
    "print(\"Running threat hunting workflow...\")\n",
    "final_state = workflow.run(initial_state)\n",
    "print(f\"\\nWorkflow completed! Final stage: {final_state.current_stage}\")"
   ]
  },
  {
   "cell_type": "markdown",
   "metadata": {},
   "source": [
    "## 4. View Results"
   ]
  },
  {
   "cell_type": "code",
   "execution_count": null,
   "metadata": {},
   "outputs": [],
   "source": [
    "# Display workflow messages\n",
    "print(\"\\n=== Workflow Messages ===\")\n",
    "for msg in final_state.messages:\n",
    "    print(f\"- {msg}\")"
   ]
  },
  {
   "cell_type": "code",
   "execution_count": null,
   "metadata": {},
   "outputs": [],
   "source": [
    "# Display detection results\n",
    "if final_state.detection:\n",
    "    print(\"\\n=== Detection Results ===\")\n",
    "    print(f\"Detection ID: {final_state.detection.detection_id}\")\n",
    "    print(f\"Confidence Score: {final_state.detection.confidence_score:.2f}\")\n",
    "    print(f\"Threat Indicators: {', '.join(final_state.detection.threat_indicators)}\")"
   ]
  },
  {
   "cell_type": "code",
   "execution_count": null,
   "metadata": {},
   "outputs": [],
   "source": [
    "# Display analysis results\n",
    "if final_state.analysis:\n",
    "    print(\"\\n=== Threat Analysis ===\")\n",
    "    print(f\"Severity: {final_state.analysis.severity.value.upper()}\")\n",
    "    print(f\"Category: {final_state.analysis.category.value}\")\n",
    "    print(f\"Attack Vector: {final_state.analysis.attack_vector}\")\n",
    "    print(f\"\\nSummary: {final_state.analysis.analysis_summary}\")"
   ]
  },
  {
   "cell_type": "code",
   "execution_count": null,
   "metadata": {},
   "outputs": [],
   "source": [
    "# Display investigation results\n",
    "if final_state.investigation:\n",
    "    print(\"\\n=== Investigation Results ===\")\n",
    "    print(f\"Root Cause: {final_state.investigation.root_cause}\")\n",
    "    print(f\"\\nAttack Chain:\")\n",
    "    for i, step in enumerate(final_state.investigation.attack_chain, 1):\n",
    "        print(f\"  {i}. {step}\")"
   ]
  },
  {
   "cell_type": "code",
   "execution_count": null,
   "metadata": {},
   "outputs": [],
   "source": [
    "# Display response plan\n",
    "if final_state.response:\n",
    "    print(\"\\n=== Incident Response ===\")\n",
    "    print(f\"Actions Planned: {', '.join([a.value for a in final_state.response.actions_taken])}\")\n",
    "    print(f\"Containment Status: {final_state.response.containment_status}\")\n",
    "    print(f\"\\nRemediation Steps:\")\n",
    "    for i, step in enumerate(final_state.response.remediation_steps, 1):\n",
    "        print(f\"  {i}. {step}\")"
   ]
  },
  {
   "cell_type": "code",
   "execution_count": null,
   "metadata": {},
   "outputs": [],
   "source": [
    "# Display final report\n",
    "if final_state.report:\n",
    "    print(\"\\n=== Executive Summary ===\")\n",
    "    print(final_state.report.executive_summary)\n",
    "    print(\"\\n=== Recommendations ===\")\n",
    "    for i, rec in enumerate(final_state.report.recommendations, 1):\n",
    "        print(f\"  {i}. {rec}\")"
   ]
  }
 ],
 "metadata": {
  "kernelspec": {
   "display_name": "Python 3",
   "language": "python",
   "name": "python3"
  },
  "language_info": {
   "codemirror_mode": {
    "name": "ipython",
    "version": 3
   },
   "file_extension": ".py",
   "mimetype": "text/x-python",
   "name": "python",
   "nbconvert_exporter": "python",
   "pygments_lexer": "ipython3",
   "version": "3.11.0"
  }
 },
 "nbformat": 4,
 "nbformat_minor": 4
}
